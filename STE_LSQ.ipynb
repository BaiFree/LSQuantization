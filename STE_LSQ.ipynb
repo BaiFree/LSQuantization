{
 "cells": [
  {
   "cell_type": "code",
   "execution_count": 1,
   "metadata": {},
   "outputs": [],
   "source": [
    "import torch\n",
    "import torch.nn.functional as F\n",
    "import math\n",
    "from torch.autograd import Variable"
   ]
  },
  {
   "cell_type": "code",
   "execution_count": 2,
   "metadata": {},
   "outputs": [],
   "source": [
    "class FunLSQ(torch.autograd.Function):\n",
    "    @staticmethod\n",
    "    def forward(ctx, weight, alpha, g, Qn, Qp):\n",
    "        assert alpha > 0, 'alpha = {}'.format(alpha)\n",
    "        ctx.save_for_backward(weight, alpha)\n",
    "        ctx.other = g, Qn, Qp\n",
    "        q_w = (weight / alpha).round().clamp(Qn, Qp)\n",
    "        w_q = q_w * alpha\n",
    "        return w_q\n",
    "\n",
    "    @staticmethod\n",
    "    def backward(ctx, grad_weight):\n",
    "        weight, alpha = ctx.saved_tensors\n",
    "        g, Qn, Qp = ctx.other\n",
    "        q_w = weight / alpha\n",
    "        indicate_small = (q_w < Qn).float()\n",
    "        indicate_big = (q_w > Qp).float()\n",
    "        indicate_middle = torch.ones(indicate_small.shape).to(indicate_small.device) - indicate_small - indicate_big\n",
    "        grad_alpha = ((indicate_small * Qn + indicate_big * Qp + indicate_middle * (\n",
    "                -q_w + q_w.round())) * grad_weight / g).sum().unsqueeze(dim=0)\n",
    "        grad_weight = indicate_middle * grad_weight\n",
    "        # The following operation can make sure that alpha is always greater than zero in any case and can also\n",
    "        # suppress the update speed of alpha. (Personal understanding)\n",
    "#         grad_alpha.clamp_(-alpha.item(), alpha.item())  # FYI\n",
    "        return grad_weight, grad_alpha, None, None, None"
   ]
  },
  {
   "cell_type": "code",
   "execution_count": 3,
   "metadata": {},
   "outputs": [],
   "source": [
    "def grad_scale(x, scale):\n",
    "    y = x\n",
    "    y_grad = x * scale\n",
    "    return y.detach() - y_grad.detach() + y_grad\n",
    "\n",
    "def round_pass(x):\n",
    "    y = x.round()\n",
    "    y_grad = x\n",
    "    return y.detach() - y_grad.detach() + y_grad"
   ]
  },
  {
   "cell_type": "markdown",
   "metadata": {},
   "source": [
    "## Initialize the variables"
   ]
  },
  {
   "cell_type": "code",
   "execution_count": 4,
   "metadata": {},
   "outputs": [],
   "source": [
    "nbits = 4\n",
    "Qn = -2 ** (nbits - 1)\n",
    "Qp = 2 ** (nbits - 1) - 1\n",
    "# g = math.sqrt(weight.numel() * Qp)\n",
    "g = 1"
   ]
  },
  {
   "cell_type": "markdown",
   "metadata": {},
   "source": [
    "## Method1 accroding to the LSQ paper:"
   ]
  },
  {
   "cell_type": "code",
   "execution_count": 5,
   "metadata": {},
   "outputs": [],
   "source": [
    "ws = []\n",
    "wqs = []\n",
    "alpha_grads = []\n",
    "for i in range(1000):\n",
    "    weight = Variable(torch.Tensor([i * 0.01]), requires_grad=True)\n",
    "    alpha = torch.ones(1, requires_grad=True)\n",
    "    ws.append(weight.data[0])\n",
    "    alpha2 = grad_scale(alpha, g)\n",
    "    w = weight / alpha2\n",
    "    w = w.clamp(Qn, Qp)\n",
    "    q_w = round_pass(w)\n",
    "    w_q = q_w * alpha2\n",
    "    wqs.append(w_q.data[0])\n",
    "    w_q.backward()\n",
    "    alpha_grads.append(alpha.grad)\n",
    "# print(ws)\n",
    "# print(wqs)\n",
    "# print(alpha_grads)"
   ]
  },
  {
   "cell_type": "code",
   "execution_count": 6,
   "metadata": {
    "scrolled": true
   },
   "outputs": [
    {
     "data": {
      "image/png": "[encoded data removed]",
      "text/plain": [
       "<Figure size 432x288 with 2 Axes>"
      ]
     },
     "metadata": {
      "needs_background": "light"
     },
     "output_type": "display_data"
    }
   ],
   "source": [
    "import matplotlib\n",
    "import matplotlib.pyplot as plt\n",
    "import numpy as np\n",
    "\n",
    "# Data for plotting\n",
    "\n",
    "plt.subplot(2, 1, 1)\n",
    "\n",
    "plt.plot(ws, wqs)\n",
    "plt.title('LSQuantization')\n",
    "plt.ylabel('vhat')\n",
    "\n",
    "plt.subplot(2, 1, 2)\n",
    "\n",
    "plt.plot(ws, alpha_grads)\n",
    "plt.ylabel('\\partial vhat / alpha')\n",
    "plt.xlabel('v')\n",
    "\n",
    "plt.show()"
   ]
  },
  {
   "cell_type": "markdown",
   "metadata": {},
   "source": [
    "## Method2:"
   ]
  },
  {
   "cell_type": "code",
   "execution_count": 7,
   "metadata": {},
   "outputs": [],
   "source": [
    "ws = []\n",
    "wqs = []\n",
    "alpha_grads = []\n",
    "for i in range(1000):\n",
    "    weight = Variable(torch.Tensor([i * 0.01]), requires_grad=True)\n",
    "    alpha = torch.ones(1, requires_grad=True)\n",
    "    ws.append(weight.data[0])\n",
    "    w_q = FunLSQ.apply(weight, alpha, g, Qn, Qp)\n",
    "    wqs.append(w_q.data[0])\n",
    "    w_q.backward(retain_graph=True)\n",
    "    alpha_grads.append(alpha.grad)\n"
   ]
  },
  {
   "cell_type": "code",
   "execution_count": 8,
   "metadata": {},
   "outputs": [
    {
     "data": {
      "image/png": "[encoded data removed]",
      "text/plain": [
       "<Figure size 432x288 with 2 Axes>"
      ]
     },
     "metadata": {
      "needs_background": "light"
     },
     "output_type": "display_data"
    }
   ],
   "source": [
    "plt.subplot(2, 1, 1)\n",
    "\n",
    "plt.plot(ws, wqs)\n",
    "plt.title('LSQuantization')\n",
    "plt.ylabel('vhat')\n",
    "\n",
    "plt.subplot(2, 1, 2)\n",
    "\n",
    "plt.plot(ws, alpha_grads)\n",
    "plt.ylabel('\\partial vhat / alpha')\n",
    "plt.xlabel('v')\n",
    "\n",
    "plt.show()"
   ]
  },
  {
   "cell_type": "code",
   "execution_count": null,
   "metadata": {},
   "outputs": [],
   "source": []
  }
 ],
 "metadata": {
  "kernelspec": {
   "display_name": "Python 3",
   "language": "python",
   "name": "python3"
  },
  "language_info": {
   "codemirror_mode": {
    "name": "ipython",
    "version": 3
   },
   "file_extension": ".py",
   "mimetype": "text/x-python",
   "name": "python",
   "nbconvert_exporter": "python",
   "pygments_lexer": "ipython3",
   "version": "3.6.10"
  }
 },
 "nbformat": 4,
 "nbformat_minor": 4
}
